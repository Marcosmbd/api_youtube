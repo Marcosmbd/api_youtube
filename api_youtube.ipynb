{
 "cells": [
  {
   "cell_type": "code",
   "execution_count": null,
   "metadata": {},
   "outputs": [],
   "source": [
    "import pandas as pd\n",
    "from googleapiclient.discovery import build\n",
    "import warnings as wa"
   ]
  },
  {
   "cell_type": "code",
   "execution_count": null,
   "metadata": {},
   "outputs": [],
   "source": [
    "wa.filterwarnings('ignore')\n",
    "\n",
    "# LogIn\n",
    "service = build(\"youtube\", \"v3\", developerKey=\"Your API KEY\")\n",
    "\n",
    "# Fazendo a solicitação à API para obter a lista de vídeos de um canal específico\n",
    "canal_id = \"Your Channel ID\"\n",
    "videos_response = service.search().list(\n",
    "    part='id,snippet',\n",
    "    channelId=canal_id,\n",
    "    type='video',\n",
    "    maxResults=100  # pode ser ajustado para retornar mais vídeos por página\n",
    ").execute()\n",
    "\n",
    "videos = []\n",
    "# Loop para percorrer todas as páginas de resultados da API\n",
    "while videos_response:\n",
    "    for item in videos_response['items']:\n",
    "        video_id = item['id']['videoId']\n",
    "        video_titulo = item['snippet']['title']\n",
    "        data_publicacao = item['snippet']['publishedAt']\n",
    "        imagem_video = item['snippet']['thumbnails']['high']['url']\n",
    "        #print(f'{video_titulo}: https://www.youtube.com/watch?v={video_id}, Publicado em: {data_publicacao}, Imagem: {imagem_video}')\n",
    "        videos.append((video_titulo, f'https://www.youtube.com/watch?v={video_id}',data_publicacao, imagem_video))\n",
    "\n",
    "    # Verificando se há mais páginas de resultados\n",
    "    if 'nextPageToken' in videos_response:\n",
    "        videos_response = service.search().list(\n",
    "            part='id,snippet',\n",
    "            channelId=canal_id,\n",
    "            type='video',\n",
    "            maxResults=50,\n",
    "            pageToken=videos_response['nextPageToken']\n",
    "        ).execute()\n",
    "    else:\n",
    "        break\n",
    "\n",
    "df_videos = pd.DataFrame(videos, columns=['Título','Link','Data','Imagem'])\n",
    "df_videos.to_csv(r\"Caminho\",sep=',', index=False)\n",
    "\n",
    "df_videos"
   ]
  }
 ],
 "metadata": {
  "kernelspec": {
   "display_name": "base",
   "language": "python",
   "name": "python3"
  },
  "language_info": {
   "codemirror_mode": {
    "name": "ipython",
    "version": 3
   },
   "file_extension": ".py",
   "mimetype": "text/x-python",
   "name": "python",
   "nbconvert_exporter": "python",
   "pygments_lexer": "ipython3",
   "version": "3.10.11"
  },
  "orig_nbformat": 4
 },
 "nbformat": 4,
 "nbformat_minor": 2
}
